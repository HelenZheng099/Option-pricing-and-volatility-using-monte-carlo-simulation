{
 "cells": [
  {
   "cell_type": "markdown",
   "id": "aba62ed3",
   "metadata": {
    "id": "aba62ed3"
   },
   "source": [
    "##*Setup Environment*"
   ]
  },
  {
   "cell_type": "markdown",
   "id": "YSbsWuEIDoXP",
   "metadata": {
    "id": "YSbsWuEIDoXP"
   },
   "source": [
    "This is an impomplete version that need to be inserted in the user interface. It can be used under a non python environment.\n",
    "\n",
    "Please click the buttons on the upper left corner of each box to realize the operation for each step.\n",
    "\n",
    "Please click the directory in the upper left of this page to go to subdirectorys.\n",
    "\n",
    "Sentances start with # stand for remarks or abandoned codes. \n",
    "\n",
    "Please feel free to make any changes, or add any notes. A copy has been saved : )\n",
    "\n",
    "To uncomment a block of code, please select the code and use \"command\"+\"/\".\n"
   ]
  },
  {
   "cell_type": "code",
   "execution_count": 45,
   "id": "XUfJvKOFv2rj",
   "metadata": {
    "colab": {
     "base_uri": "https://localhost:8080/"
    },
    "id": "XUfJvKOFv2rj",
    "outputId": "c6652438-84dc-4d22-d901-b852b1379d5e"
   },
   "outputs": [],
   "source": [
    "# !pip install scipy.stats \n",
    "# !pip install datetime\n",
    "# !pip install numpy\n",
    "# !pip install pandas\n",
    "# !pip install matplotlib.pyplot\n",
    "# !pip install yfinance\n",
    "# !pip install statistics\n",
    "# !pip install pandas_datareader"
   ]
  },
  {
   "cell_type": "code",
   "execution_count": 46,
   "id": "tTTyxFAJFRkh",
   "metadata": {
    "colab": {
     "base_uri": "https://localhost:8080/"
    },
    "id": "tTTyxFAJFRkh",
    "outputId": "f246fabe-77be-4bc7-8065-32f6f879ed74"
   },
   "outputs": [],
   "source": [
    "# !pip install PyPortfolioOpt"
   ]
  },
  {
   "cell_type": "code",
   "execution_count": 10,
   "id": "ea41ccf7",
   "metadata": {
    "id": "ea41ccf7"
   },
   "outputs": [],
   "source": [
    "from math import log, sqrt, pi, exp\n",
    "from scipy.stats import norm\n",
    "from datetime import datetime, date\n",
    "import datetime as dt\n",
    "import numpy as np\n",
    "import pandas as pd\n",
    "from pandas import DataFrame\n",
    "import matplotlib.pyplot as plt\n",
    "import yfinance as yf\n",
    "from pandas_datareader import data as pdr\n",
    "import statistics"
   ]
  },
  {
   "cell_type": "code",
   "execution_count": 11,
   "id": "0ARvSV5WGk-j",
   "metadata": {
    "id": "0ARvSV5WGk-j"
   },
   "outputs": [],
   "source": [
    "import pypfopt\n",
    "from pypfopt.efficient_frontier import EfficientFrontier\n",
    "from pypfopt import risk_models\n",
    "from pypfopt import expected_returns\n",
    "from matplotlib.ticker import FuncFormatter"
   ]
  },
  {
   "cell_type": "markdown",
   "id": "mMOzRVsekIE0",
   "metadata": {
    "id": "mMOzRVsekIE0"
   },
   "source": [
    "##*Monte Carlo Simulation*"
   ]
  },
  {
   "cell_type": "code",
   "execution_count": 4,
   "id": "122c83c0",
   "metadata": {
    "id": "122c83c0",
    "scrolled": true
   },
   "outputs": [],
   "source": [
    "stock_list = ['TSLA']   #select your underlying stock here\n",
    "strike_price = [155,157,162]   #enter strike price of call\n",
    "stock_weight = 0.3\n",
    "option_weight = [0.2,0.3,0.2]\n",
    "r = 0.05   #enter riskfree rate\n",
    "T = 1 #time in years\n",
    "N = 1000 #number of steps within each simulation\n",
    "i = 1000 #number of simulations\n",
    "discount_factor = np.exp(-r*T)"
   ]
  },
  {
   "cell_type": "code",
   "execution_count": 5,
   "id": "37c8b394",
   "metadata": {
    "colab": {
     "base_uri": "https://localhost:8080/"
    },
    "id": "37c8b394",
    "outputId": "6541d702-4ae3-4b09-f43d-2b25d2992f7b",
    "scrolled": false
   },
   "outputs": [],
   "source": [
    "#calculate the volatility of stock\n",
    "today = datetime.now()\n",
    "one_year_ago = today.replace(year=today.year-1)\n",
    "\n",
    "def get_data(stock, one_year_ago, today):\n",
    "    # Retrieve stock data\n",
    "    yf.pdr_override()\n",
    "    df = yf.download(stock, start=one_year_ago, end=today)\n",
    "    df = df.sort_values(by=\"Date\")\n",
    "    df = df.dropna()\n",
    "    df = df.assign(close_day_before=df.Close.shift(1))\n",
    "    return df\n",
    "    \n",
    "def calculate_sigma(stock, one_year_ago, today):\n",
    "    df = get_data(stock, one_year_ago, today)\n",
    "    df['returns'] = ((df.Close - df.close_day_before)/df.close_day_before)\n",
    "    sigma = np.sqrt(252) * df['returns'].std()\n",
    "    return sigma\n",
    "\n",
    "# for stock in stock_list:\n",
    "#     sigma = calculate_sigma(stock, one_year_ago, today)\n",
    "#     print(f\"Stock: {stock}, Sigma: {sigma}\")\n",
    "    "
   ]
  },
  {
   "cell_type": "code",
   "execution_count": 6,
   "id": "oihdGDCu46OK",
   "metadata": {
    "colab": {
     "base_uri": "https://localhost:8080/",
     "height": 472
    },
    "id": "oihdGDCu46OK",
    "outputId": "1f2b5560-af16-426d-e997-6ed41d1ef049"
   },
   "outputs": [],
   "source": [
    "#Monte Carlo simulation \n",
    "\n",
    "def geometric_brownian(S0,T,N,i,r,sigma,stock, one_year_ago, today):\n",
    "    deltat = T/N #time step\n",
    "    stock_prices = np.zeros([i,N])\n",
    "    t = range(0,N,1)\n",
    "    \n",
    "    S = np.zeros([i,N])\n",
    "    sigma=sigma/np.sqrt(1000)\n",
    "    for y in range(0,i-1):\n",
    "        S[y,0]=S0\n",
    "        for x in range(0,N-1):\n",
    "            S[y,x+1] = S[y,x]*(np.exp((r/1000-sigma**2/2)*deltat + sigma*deltat*np.random.normal(0,1)))#Brownian Motion Process with Drift\n",
    "    return S\n",
    "\n",
    "\n",
    "def plot(S, i, N, sigma, r, S0):\n",
    "    t = range(0,N,1)\n",
    "    for y in range(0,i-1):\n",
    "        plt.plot(t, S[y])\n",
    "\n",
    "    plt.title('Simulations %d Steps %d Sigma %.2f r %.2f S0 %.2f' % (i, N, sigma, r, S0))\n",
    "    plt.xlabel('Steps')\n",
    "    plt.ylabel('Stock Price')\n",
    "    plt.show()\n",
    "\n"
   ]
  },
  {
   "cell_type": "code",
   "execution_count": 7,
   "id": "76ae631f",
   "metadata": {
    "scrolled": true
   },
   "outputs": [
    {
     "name": "stdout",
     "output_type": "stream",
     "text": [
      "[*********************100%***********************]  1 of 1 completed\n",
      "\n",
      "1 Failed download:\n",
      "- TSLA: No data found for this date range, symbol may be delisted\n"
     ]
    },
    {
     "ename": "IndexError",
     "evalue": "single positional indexer is out-of-bounds",
     "output_type": "error",
     "traceback": [
      "\u001b[0;31m---------------------------------------------------------------------------\u001b[0m",
      "\u001b[0;31mIndexError\u001b[0m                                Traceback (most recent call last)",
      "Cell \u001b[0;32mIn[7], line 3\u001b[0m\n\u001b[1;32m      1\u001b[0m \u001b[38;5;28;01mfor\u001b[39;00m stock \u001b[38;5;129;01min\u001b[39;00m stock_list:         \n\u001b[1;32m      2\u001b[0m     df \u001b[38;5;241m=\u001b[39m get_data(stock, one_year_ago, today)\n\u001b[0;32m----> 3\u001b[0m     S0 \u001b[38;5;241m=\u001b[39m \u001b[43mdf\u001b[49m\u001b[38;5;241;43m.\u001b[39;49m\u001b[43miloc\u001b[49m\u001b[43m[\u001b[49m\u001b[38;5;241;43m-\u001b[39;49m\u001b[38;5;241;43m1\u001b[39;49m\u001b[43m]\u001b[49m[\u001b[38;5;124m'\u001b[39m\u001b[38;5;124mClose\u001b[39m\u001b[38;5;124m'\u001b[39m] \u001b[38;5;66;03m#initial stock price = current Close price \u001b[39;00m\n\u001b[1;32m      4\u001b[0m     sigma\u001b[38;5;241m=\u001b[39mcalculate_sigma(stock, one_year_ago, today)\n\u001b[1;32m      5\u001b[0m     S \u001b[38;5;241m=\u001b[39m geometric_brownian(S0, T, N, i, r, sigma, stock, one_year_ago, today)\n",
      "File \u001b[0;32m~/anaconda3/lib/python3.10/site-packages/pandas/core/indexing.py:1103\u001b[0m, in \u001b[0;36m_LocationIndexer.__getitem__\u001b[0;34m(self, key)\u001b[0m\n\u001b[1;32m   1100\u001b[0m axis \u001b[38;5;241m=\u001b[39m \u001b[38;5;28mself\u001b[39m\u001b[38;5;241m.\u001b[39maxis \u001b[38;5;129;01mor\u001b[39;00m \u001b[38;5;241m0\u001b[39m\n\u001b[1;32m   1102\u001b[0m maybe_callable \u001b[38;5;241m=\u001b[39m com\u001b[38;5;241m.\u001b[39mapply_if_callable(key, \u001b[38;5;28mself\u001b[39m\u001b[38;5;241m.\u001b[39mobj)\n\u001b[0;32m-> 1103\u001b[0m \u001b[38;5;28;01mreturn\u001b[39;00m \u001b[38;5;28;43mself\u001b[39;49m\u001b[38;5;241;43m.\u001b[39;49m\u001b[43m_getitem_axis\u001b[49m\u001b[43m(\u001b[49m\u001b[43mmaybe_callable\u001b[49m\u001b[43m,\u001b[49m\u001b[43m \u001b[49m\u001b[43maxis\u001b[49m\u001b[38;5;241;43m=\u001b[39;49m\u001b[43maxis\u001b[49m\u001b[43m)\u001b[49m\n",
      "File \u001b[0;32m~/anaconda3/lib/python3.10/site-packages/pandas/core/indexing.py:1656\u001b[0m, in \u001b[0;36m_iLocIndexer._getitem_axis\u001b[0;34m(self, key, axis)\u001b[0m\n\u001b[1;32m   1653\u001b[0m     \u001b[38;5;28;01mraise\u001b[39;00m \u001b[38;5;167;01mTypeError\u001b[39;00m(\u001b[38;5;124m\"\u001b[39m\u001b[38;5;124mCannot index by location index with a non-integer key\u001b[39m\u001b[38;5;124m\"\u001b[39m)\n\u001b[1;32m   1655\u001b[0m \u001b[38;5;66;03m# validate the location\u001b[39;00m\n\u001b[0;32m-> 1656\u001b[0m \u001b[38;5;28;43mself\u001b[39;49m\u001b[38;5;241;43m.\u001b[39;49m\u001b[43m_validate_integer\u001b[49m\u001b[43m(\u001b[49m\u001b[43mkey\u001b[49m\u001b[43m,\u001b[49m\u001b[43m \u001b[49m\u001b[43maxis\u001b[49m\u001b[43m)\u001b[49m\n\u001b[1;32m   1658\u001b[0m \u001b[38;5;28;01mreturn\u001b[39;00m \u001b[38;5;28mself\u001b[39m\u001b[38;5;241m.\u001b[39mobj\u001b[38;5;241m.\u001b[39m_ixs(key, axis\u001b[38;5;241m=\u001b[39maxis)\n",
      "File \u001b[0;32m~/anaconda3/lib/python3.10/site-packages/pandas/core/indexing.py:1589\u001b[0m, in \u001b[0;36m_iLocIndexer._validate_integer\u001b[0;34m(self, key, axis)\u001b[0m\n\u001b[1;32m   1587\u001b[0m len_axis \u001b[38;5;241m=\u001b[39m \u001b[38;5;28mlen\u001b[39m(\u001b[38;5;28mself\u001b[39m\u001b[38;5;241m.\u001b[39mobj\u001b[38;5;241m.\u001b[39m_get_axis(axis))\n\u001b[1;32m   1588\u001b[0m \u001b[38;5;28;01mif\u001b[39;00m key \u001b[38;5;241m>\u001b[39m\u001b[38;5;241m=\u001b[39m len_axis \u001b[38;5;129;01mor\u001b[39;00m key \u001b[38;5;241m<\u001b[39m \u001b[38;5;241m-\u001b[39mlen_axis:\n\u001b[0;32m-> 1589\u001b[0m     \u001b[38;5;28;01mraise\u001b[39;00m \u001b[38;5;167;01mIndexError\u001b[39;00m(\u001b[38;5;124m\"\u001b[39m\u001b[38;5;124msingle positional indexer is out-of-bounds\u001b[39m\u001b[38;5;124m\"\u001b[39m)\n",
      "\u001b[0;31mIndexError\u001b[0m: single positional indexer is out-of-bounds"
     ]
    }
   ],
   "source": [
    "for stock in stock_list:         \n",
    "    df = get_data(stock, one_year_ago, today)\n",
    "    S0 = df.iloc[-1]['Close'] #initial stock price = current Close price \n",
    "    sigma=calculate_sigma(stock, one_year_ago, today)\n",
    "    S = geometric_brownian(S0, T, N, i, r, sigma, stock, one_year_ago, today)\n",
    "    plot(S, i, N, sigma, r, S0)\n"
   ]
  },
  {
   "cell_type": "code",
   "execution_count": 8,
   "id": "698aa77c",
   "metadata": {},
   "outputs": [],
   "source": [
    "def call(S,i,N,K):\n",
    "    C = np.zeros((i-1,1), dtype=np.float16)\n",
    "    for y in range(0,i-1):\n",
    "        C[y]=np.maximum(S[y,N-1]-K,0)\n",
    "    return C\n",
    "\n",
    "def put(S,i,N,K):\n",
    "    P = np.zeros((i-1,1), dtype=np.float16)\n",
    "    for y in range(0,i-1):\n",
    "        P[y]=np.maximum(K-S[y,N-1],0)\n",
    "    return P\n",
    "\n",
    "def option_payoff(discount_factor,O):\n",
    "    Payoff = discount_factor*O\n",
    "    return Payoff \n",
    "\n",
    "# def plot_portfolio(S, i, N, stock, strike):\n",
    "#     t = range(0,N,1)\n",
    "#     for y in range(0,i):\n",
    "#         plt.plot(t, S)\n",
    "\n",
    "#     plt.title('Stock %s Strike Price %s Sigma %.2f r %.2f' % (stock, strike, sigma, r))\n",
    "#     plt.xlabel('t')\n",
    "#     plt.ylabel('Portfolio')\n",
    "#     plt.show()"
   ]
  },
  {
   "cell_type": "code",
   "execution_count": 9,
   "id": "f143f6f8",
   "metadata": {},
   "outputs": [
    {
     "name": "stdout",
     "output_type": "stream",
     "text": [
      "[*********************100%***********************]  1 of 1 completed\n",
      "\n",
      "1 Failed download:\n",
      "- TSLA: No data found for this date range, symbol may be delisted\n"
     ]
    },
    {
     "ename": "IndexError",
     "evalue": "single positional indexer is out-of-bounds",
     "output_type": "error",
     "traceback": [
      "\u001b[0;31m---------------------------------------------------------------------------\u001b[0m",
      "\u001b[0;31mIndexError\u001b[0m                                Traceback (most recent call last)",
      "Cell \u001b[0;32mIn[9], line 4\u001b[0m\n\u001b[1;32m      1\u001b[0m option_portfolio \u001b[38;5;241m=\u001b[39m np\u001b[38;5;241m.\u001b[39mzeros((i\u001b[38;5;241m-\u001b[39m\u001b[38;5;241m1\u001b[39m, \u001b[38;5;241m1\u001b[39m))\n\u001b[1;32m      3\u001b[0m df \u001b[38;5;241m=\u001b[39m get_data(stock, one_year_ago, today)\n\u001b[0;32m----> 4\u001b[0m S0 \u001b[38;5;241m=\u001b[39m \u001b[43mdf\u001b[49m\u001b[38;5;241;43m.\u001b[39;49m\u001b[43miloc\u001b[49m\u001b[43m[\u001b[49m\u001b[38;5;241;43m-\u001b[39;49m\u001b[38;5;241;43m1\u001b[39;49m\u001b[43m]\u001b[49m[\u001b[38;5;124m'\u001b[39m\u001b[38;5;124mClose\u001b[39m\u001b[38;5;124m'\u001b[39m] \u001b[38;5;66;03m#initial stock price = current Close price \u001b[39;00m\n\u001b[1;32m      5\u001b[0m sigma\u001b[38;5;241m=\u001b[39mcalculate_sigma(stock, one_year_ago, today)\n\u001b[1;32m      6\u001b[0m S \u001b[38;5;241m=\u001b[39m geometric_brownian(S0, T, N, i, r, sigma, stock, one_year_ago, today)\n",
      "File \u001b[0;32m~/anaconda3/lib/python3.10/site-packages/pandas/core/indexing.py:1103\u001b[0m, in \u001b[0;36m_LocationIndexer.__getitem__\u001b[0;34m(self, key)\u001b[0m\n\u001b[1;32m   1100\u001b[0m axis \u001b[38;5;241m=\u001b[39m \u001b[38;5;28mself\u001b[39m\u001b[38;5;241m.\u001b[39maxis \u001b[38;5;129;01mor\u001b[39;00m \u001b[38;5;241m0\u001b[39m\n\u001b[1;32m   1102\u001b[0m maybe_callable \u001b[38;5;241m=\u001b[39m com\u001b[38;5;241m.\u001b[39mapply_if_callable(key, \u001b[38;5;28mself\u001b[39m\u001b[38;5;241m.\u001b[39mobj)\n\u001b[0;32m-> 1103\u001b[0m \u001b[38;5;28;01mreturn\u001b[39;00m \u001b[38;5;28;43mself\u001b[39;49m\u001b[38;5;241;43m.\u001b[39;49m\u001b[43m_getitem_axis\u001b[49m\u001b[43m(\u001b[49m\u001b[43mmaybe_callable\u001b[49m\u001b[43m,\u001b[49m\u001b[43m \u001b[49m\u001b[43maxis\u001b[49m\u001b[38;5;241;43m=\u001b[39;49m\u001b[43maxis\u001b[49m\u001b[43m)\u001b[49m\n",
      "File \u001b[0;32m~/anaconda3/lib/python3.10/site-packages/pandas/core/indexing.py:1656\u001b[0m, in \u001b[0;36m_iLocIndexer._getitem_axis\u001b[0;34m(self, key, axis)\u001b[0m\n\u001b[1;32m   1653\u001b[0m     \u001b[38;5;28;01mraise\u001b[39;00m \u001b[38;5;167;01mTypeError\u001b[39;00m(\u001b[38;5;124m\"\u001b[39m\u001b[38;5;124mCannot index by location index with a non-integer key\u001b[39m\u001b[38;5;124m\"\u001b[39m)\n\u001b[1;32m   1655\u001b[0m \u001b[38;5;66;03m# validate the location\u001b[39;00m\n\u001b[0;32m-> 1656\u001b[0m \u001b[38;5;28;43mself\u001b[39;49m\u001b[38;5;241;43m.\u001b[39;49m\u001b[43m_validate_integer\u001b[49m\u001b[43m(\u001b[49m\u001b[43mkey\u001b[49m\u001b[43m,\u001b[49m\u001b[43m \u001b[49m\u001b[43maxis\u001b[49m\u001b[43m)\u001b[49m\n\u001b[1;32m   1658\u001b[0m \u001b[38;5;28;01mreturn\u001b[39;00m \u001b[38;5;28mself\u001b[39m\u001b[38;5;241m.\u001b[39mobj\u001b[38;5;241m.\u001b[39m_ixs(key, axis\u001b[38;5;241m=\u001b[39maxis)\n",
      "File \u001b[0;32m~/anaconda3/lib/python3.10/site-packages/pandas/core/indexing.py:1589\u001b[0m, in \u001b[0;36m_iLocIndexer._validate_integer\u001b[0;34m(self, key, axis)\u001b[0m\n\u001b[1;32m   1587\u001b[0m len_axis \u001b[38;5;241m=\u001b[39m \u001b[38;5;28mlen\u001b[39m(\u001b[38;5;28mself\u001b[39m\u001b[38;5;241m.\u001b[39mobj\u001b[38;5;241m.\u001b[39m_get_axis(axis))\n\u001b[1;32m   1588\u001b[0m \u001b[38;5;28;01mif\u001b[39;00m key \u001b[38;5;241m>\u001b[39m\u001b[38;5;241m=\u001b[39m len_axis \u001b[38;5;129;01mor\u001b[39;00m key \u001b[38;5;241m<\u001b[39m \u001b[38;5;241m-\u001b[39mlen_axis:\n\u001b[0;32m-> 1589\u001b[0m     \u001b[38;5;28;01mraise\u001b[39;00m \u001b[38;5;167;01mIndexError\u001b[39;00m(\u001b[38;5;124m\"\u001b[39m\u001b[38;5;124msingle positional indexer is out-of-bounds\u001b[39m\u001b[38;5;124m\"\u001b[39m)\n",
      "\u001b[0;31mIndexError\u001b[0m: single positional indexer is out-of-bounds"
     ]
    }
   ],
   "source": [
    "option_portfolio = np.zeros((i-1, 1))\n",
    "\n",
    "df = get_data(stock, one_year_ago, today)\n",
    "S0 = df.iloc[-1]['Close'] #initial stock price = current Close price \n",
    "sigma=calculate_sigma(stock, one_year_ago, today)\n",
    "S = geometric_brownian(S0, T, N, i, r, sigma, stock, one_year_ago, today)\n",
    "\n",
    "def option_value(S,i,N,strike,discount_factor,j):\n",
    "    for j, strike in enumerate(strike_price):\n",
    "        for y in range(i-1):\n",
    "            C = call(S,i,N,strike)     \n",
    "            C_payoff = option_payoff(discount_factor,C)\n",
    "        print(\"\\nThe payoff of %s 's call with strike price of %.2f is %.2f.\" % (stock_list, strike, C_payoff[y]))\n",
    "        return\n",
    "        option_portfolio += option_weight[j]*C_payoff\n",
    "#     print(\"\\nThe payoff of %s 's put with strike price of %.2f is %.2f.\" % (stock_list, strike, P_payoff[y]))\n"
   ]
  },
  {
   "cell_type": "code",
   "execution_count": 44,
   "id": "c867d6f0",
   "metadata": {
    "scrolled": true
   },
   "outputs": [
    {
     "name": "stdout",
     "output_type": "stream",
     "text": [
      "[56.64124146 56.6415977  56.64251581 56.64227231 56.64161019 56.64192951\n",
      " 56.64212554 56.6395216  56.63874675 56.63928012 56.63996969 56.63795235\n",
      " 56.64132369 56.64118418 56.64089896 56.63951355 56.63938343 56.63844037\n",
      " 56.63889623 56.63925605 56.63860612 56.63753181 56.63581085 56.63416894\n",
      " 56.63397675 56.6345979  56.63541154 56.63508295 56.6339633  56.63382586\n",
      " 56.63341767 56.63422606 56.63437644 56.63609644 56.63694178 56.63731754\n",
      " 56.63750018 56.63734813 56.63907027 56.64004481 56.64010809 56.63936252\n",
      " 56.63896227 56.63775138 56.63801298 56.63749217 56.63698292 56.63724468\n",
      " 56.63560282 56.63414546 56.63416241 56.6320888  56.63204125 56.63210291\n",
      " 56.6316452  56.63253748 56.63213662 56.63415655 56.63467833 56.63455586\n",
      " 56.63397899 56.63393497 56.63314059 56.63294231 56.63441709 56.63490989\n",
      " 56.63300234 56.63380216 56.63535112 56.63601118 56.63614151 56.63527029\n",
      " 56.63470148 56.63410275 56.63358913 56.63415214 56.63586448 56.63702701\n",
      " 56.63717426 56.63809705 56.63799888 56.63759635 56.63647884 56.6360947\n",
      " 56.63719673 56.63721889 56.6363167  56.63520455 56.63669351 56.63594872\n",
      " 56.63587841 56.63677911 56.63655496 56.63584593 56.63710126 56.63522077\n",
      " 56.63522565 56.63616115 56.63678573 56.63665374 56.63774296 56.63734495\n",
      " 56.63594501 56.6355394  56.63454987 56.63403585 56.63408498 56.63525295\n",
      " 56.63462018 56.63416672 56.6334089  56.63400023 56.63471777 56.63547581\n",
      " 56.63651729 56.63696502 56.63635731 56.63704914 56.6364665  56.6358326\n",
      " 56.63464799 56.6334414  56.63368763 56.63321363 56.6334627  56.63384\n",
      " 56.6350265  56.63456435 56.63509103 56.63367522 56.63397215 56.63390473\n",
      " 56.63376174 56.63221897 56.63077516 56.63258531 56.63121225 56.63153074\n",
      " 56.63140863 56.63016373 56.63019403 56.62962039 56.63090975 56.63059416\n",
      " 56.62931799 56.62977736 56.62863638 56.62840784 56.62824208 56.62821373\n",
      " 56.62903984 56.62885002 56.62772438 56.62758463 56.6285498  56.62893678\n",
      " 56.62996903 56.63005654 56.6295039  56.63236856 56.63170518 56.63248186\n",
      " 56.63239862 56.63152863 56.63168184 56.63179849 56.63183133 56.63143196\n",
      " 56.6302901  56.63052999 56.63122813 56.63169345 56.63121521 56.63070472\n",
      " 56.63058711 56.63223492 56.63243714 56.63532046 56.63437889 56.63475488\n",
      " 56.63516727 56.63630565 56.63701603 56.63720372 56.63622997 56.63722973\n",
      " 56.6379288  56.63735892 56.63747907 56.63849182 56.63952212 56.63967884\n",
      " 56.63975599 56.63770315 56.63865416 56.63831252 56.63817308 56.63683196\n",
      " 56.63694574 56.63708164 56.63847268 56.64063036 56.64103826 56.64133847\n",
      " 56.63990814 56.63985879 56.64204337 56.64118819 56.64036805 56.64123685\n",
      " 56.64341357 56.64285518 56.64438721 56.64350946 56.64319601 56.64358075\n",
      " 56.64173776 56.6412706  56.64284981 56.64323962 56.64160873 56.64139285\n",
      " 56.64244924 56.64229728 56.64134134 56.6423727  56.64258652 56.64122548\n",
      " 56.64098592 56.63859629 56.63875857 56.63783148 56.63647491 56.63676559\n",
      " 56.63831431 56.63736962 56.63792495 56.63828534 56.63720066 56.63629495\n",
      " 56.63736124 56.63776885 56.63723609 56.63662623 56.63504281 56.634488\n",
      " 56.63495225 56.6363942  56.63628492 56.63538478 56.63630885 56.63652353\n",
      " 56.63681965 56.63598132 56.63657226 56.63803512 56.63803369 56.63781772\n",
      " 56.63877908 56.63663524 56.63722972 56.63848185 56.63871646 56.63788307\n",
      " 56.63615366 56.63560675 56.63419365 56.63313446 56.63296415 56.63193055\n",
      " 56.63152731 56.63099256 56.6312104  56.63004683 56.62979867 56.63188541\n",
      " 56.63206984 56.63190928 56.63199407 56.63210609 56.63166887 56.63115512\n",
      " 56.63007525 56.62951717 56.62848813 56.62912159 56.62787413 56.62776958\n",
      " 56.62713512 56.62718416 56.62789258 56.62835104 56.62924236 56.62998763\n",
      " 56.62960275 56.63035131 56.63037566 56.63253302 56.63574536 56.63581722\n",
      " 56.63710254 56.63804895 56.63838536 56.63976401 56.63871801 56.63846866\n",
      " 56.63990149 56.64005496 56.63963556 56.64155815 56.6399385  56.64047269\n",
      " 56.64012741 56.6404491  56.64103725 56.64183513 56.64281081 56.63987057\n",
      " 56.64171704 56.64379612 56.64345654 56.64268336 56.64121303 56.64093449\n",
      " 56.64073595 56.63968544 56.63987992 56.64156555 56.64223848 56.64067235\n",
      " 56.64029477 56.63811129 56.63709181 56.63748932 56.63757565 56.63900555\n",
      " 56.63853147 56.63748595 56.63829287 56.6374522  56.63710151 56.6364793\n",
      " 56.63706814 56.63632566 56.63570223 56.63503107 56.63313853 56.63398607\n",
      " 56.63436624 56.63379331 56.63262225 56.63200841 56.63229145 56.63085959\n",
      " 56.63206098 56.63188779 56.6332122  56.63392217 56.63533512 56.63462603\n",
      " 56.63344077 56.63381911 56.63413099 56.63422764 56.63404873 56.63288955\n",
      " 56.63200365 56.63283219 56.63533705 56.6340415  56.6350278  56.63505075\n",
      " 56.63522025 56.63392073 56.63494325 56.63278055 56.63309996 56.63218458\n",
      " 56.63154068 56.63134487 56.62930967 56.63120237 56.63056426 56.63022412\n",
      " 56.63071732 56.63087069 56.63210879 56.62920976 56.62756699 56.62823845\n",
      " 56.62839706 56.62875393 56.62954907 56.63061713 56.63116961 56.62972162\n",
      " 56.62962337 56.62979258 56.62978462 56.63192185 56.63245222 56.63308602\n",
      " 56.63276134 56.63244074 56.63098673 56.63044801 56.62898061 56.62997128\n",
      " 56.62939335 56.62905993 56.62995006 56.63068115 56.62979823 56.63031724\n",
      " 56.63014499 56.63026741 56.62919001 56.63039417 56.62973621 56.62835701\n",
      " 56.62896053 56.62845421 56.62900107 56.62866973 56.62861099 56.62805828\n",
      " 56.62819301 56.62729958 56.62787486 56.62869583 56.62932993 56.62980161\n",
      " 56.63079511 56.63026316 56.63001059 56.63084003 56.63121141 56.63134857\n",
      " 56.63052934 56.63011447 56.63112563 56.63091684 56.63066582 56.63150177\n",
      " 56.63262694 56.63106112 56.63117393 56.63246339 56.63315528 56.63359976\n",
      " 56.63355161 56.63157591 56.63318054 56.63367625 56.63429375 56.63355882\n",
      " 56.63319981 56.6325666  56.63410073 56.63340813 56.63252879 56.63244711\n",
      " 56.63395299 56.63340347 56.6321647  56.63219907 56.63215207 56.63116825\n",
      " 56.63246078 56.63196291 56.63180289 56.63080785 56.63268252 56.62923846\n",
      " 56.63043132 56.6306884  56.63083231 56.63178975 56.63213604 56.63249813\n",
      " 56.63149803 56.6303746  56.62883453 56.6295068  56.62859026 56.62683147\n",
      " 56.6264686  56.62448499 56.62651354 56.62728798 56.62641737 56.62569275\n",
      " 56.62638125 56.62657076 56.62665609 56.62731499 56.62793332 56.62847827\n",
      " 56.62861132 56.62735022 56.62691668 56.62741164 56.62546562 56.6247703\n",
      " 56.62408687 56.62491068 56.62624774 56.62464015 56.62428916 56.62251806\n",
      " 56.62322757 56.62237322 56.62269681 56.62220289 56.62204586 56.62374359\n",
      " 56.62368868 56.62359823 56.6247622  56.62509221 56.62615521 56.6260442\n",
      " 56.62842864 56.6282826  56.62844313 56.62841516 56.6289988  56.62904734\n",
      " 56.63113668 56.63018744 56.62886576 56.62924736 56.62889418 56.62922852\n",
      " 56.63017919 56.62968269 56.62930768 56.62882385 56.62787946 56.62837322\n",
      " 56.62764146 56.62778877 56.62567036 56.62513264 56.62435781 56.62321083\n",
      " 56.62397838 56.62389975 56.62296405 56.62171992 56.62272338 56.6236171\n",
      " 56.6226776  56.62294811 56.62191936 56.62231011 56.62189542 56.62173133\n",
      " 56.62193447 56.62068508 56.62164106 56.62105209 56.62067262 56.6208328\n",
      " 56.61988331 56.62198796 56.62371287 56.62305993 56.62273643 56.62279919\n",
      " 56.62219379 56.62224816 56.62289994 56.62168726 56.62225983 56.62069876\n",
      " 56.62204782 56.6197748  56.61945085 56.62077893 56.62065407 56.62031538\n",
      " 56.61888572 56.61877689 56.61977198 56.61997323 56.61755972 56.61748162\n",
      " 56.61652962 56.61682139 56.61649966 56.61642161 56.61552381 56.61531485\n",
      " 56.61549092 56.61636179 56.61415332 56.61453508 56.61480954 56.61545836\n",
      " 56.61431926 56.61283433 56.61250673 56.61421849 56.61434048 56.61581962\n",
      " 56.61633386 56.61440188 56.61322867 56.61307018 56.61290737 56.61217632\n",
      " 56.60972876 56.60749774 56.60755622 56.60624661 56.60617182 56.6060983\n",
      " 56.60728511 56.60663124 56.60574069 56.60753771 56.60765224 56.60759942\n",
      " 56.6071851  56.60812806 56.60827559 56.60752013 56.6084602  56.60882941\n",
      " 56.60886875 56.60837163 56.60819591 56.60894398 56.6093007  56.60979521\n",
      " 56.60897023 56.60927318 56.60777536 56.60938122 56.60799722 56.61005012\n",
      " 56.61028948 56.61072568 56.61151139 56.61143479 56.60990644 56.60878097\n",
      " 56.60949696 56.60731796 56.60589058 56.60473122 56.60448293 56.60398208\n",
      " 56.60399876 56.60394261 56.60432935 56.60367685 56.60277683 56.60427525\n",
      " 56.6039391  56.60492031 56.60633412 56.60680679 56.60609956 56.60708679\n",
      " 56.60707897 56.60788187 56.60795863 56.6085347  56.6090304  56.60907968\n",
      " 56.60971207 56.60988915 56.61137337 56.61050106 56.6080491  56.60849502\n",
      " 56.60931452 56.60912921 56.61070204 56.61092076 56.61086552 56.61044778\n",
      " 56.61004714 56.61026996 56.61113308 56.61174845 56.6137404  56.61356698\n",
      " 56.61207238 56.61168825 56.61254447 56.61274698 56.61316016 56.61261978\n",
      " 56.61251281 56.61176583 56.61134607 56.61223844 56.61153095 56.61051143\n",
      " 56.61001618 56.60933952 56.61183437 56.61203907 56.60947742 56.6096361\n",
      " 56.61151145 56.6106879  56.610945   56.61057397 56.61020844 56.60912918\n",
      " 56.6079462  56.60705774 56.60494742 56.60527719 56.60586044 56.60599875\n",
      " 56.6081209  56.60699824 56.60616883 56.60636057 56.60695418 56.60598751\n",
      " 56.60522257 56.60719265 56.60701171 56.60752819 56.60661097 56.60688028\n",
      " 56.6057669  56.60590271 56.60697408 56.60859604 56.60743692 56.60945621\n",
      " 56.60929056 56.61105488 56.61184449 56.61260772 56.61279976 56.61365813\n",
      " 56.61384395 56.6168445  56.61763352 56.61722905 56.61849674 56.6181181\n",
      " 56.61642448 56.61705141 56.61415451 56.61496523 56.61455495 56.61395423\n",
      " 56.61131916 56.61140706 56.61098947 56.61036638 56.61144334 56.61085004\n",
      " 56.61137411 56.61071845 56.61059584 56.61051992 56.61169189 56.61171774\n",
      " 56.61180718 56.61225371 56.61246667 56.61227098 56.61214642 56.61375591\n",
      " 56.61359424 56.61272132 56.61402689 56.61395749 56.61660335 56.61607254\n",
      " 56.61563331 56.61297944 56.61294386 56.61190154 56.61137489 56.61011201\n",
      " 56.60801225 56.60916949 56.61183921 56.61215436 56.61260907 56.6128987\n",
      " 56.61237449 56.61210164 56.61002886 56.60887191 56.60753284 56.60587994\n",
      " 56.60713406 56.60656941 56.60484996 56.60585853 56.60686175 56.60716006\n",
      " 56.6069655  56.60671648 56.60781401 56.60849154 56.60839272 56.60783422\n",
      " 56.60819248 56.60781544 56.60554169 56.60507863 56.60389796 56.60350474\n",
      " 56.60505634 56.60521563 56.60221033 56.59956992 56.59836754 56.59977367\n",
      " 56.60095596 56.60298188 56.60324285 56.6035823  56.60173984 56.60260679\n",
      " 56.60268872 56.60107921 56.60221365 56.6025212  56.60117623 56.60065828\n",
      " 56.60101418 56.60103839 56.60166377 56.60229781 56.60257694 56.60371333\n",
      " 56.60397416 56.6043163  56.60411482 56.60211716 56.60372768 56.60277474\n",
      " 56.6024123  56.60208492 56.60233749 56.60445632 56.60347248 56.6026228\n",
      " 56.60342849 56.60416428 56.60499698 56.6036568  56.60305544 56.60247793\n",
      " 56.60204143 56.60069839 56.59980159 56.59976318 56.60063625 56.60074924\n",
      " 56.60002749 56.59955673 56.60083227 56.60130485 56.60037466 56.60156804\n",
      " 56.60243988 56.60315428 56.60299664 56.60260164 56.60338285 56.60426599\n",
      " 56.60458439 56.60482515 56.60567442 56.60697665 56.60624771 56.60669239\n",
      " 56.60719123 56.60632345 56.60373417 56.6050176  56.60502979 56.60636791\n",
      " 56.60523442 56.60575606 56.60443376 56.60499665 56.6040476  56.60442004\n",
      " 56.6041891  56.60338675 56.6019506  56.6016705  56.60135908 56.60184482\n",
      " 56.60212871 56.60173063 56.6034185  56.60147231 56.60011488 56.60046943\n",
      " 56.6010813  56.60081207 56.60120862 56.6005477  56.60000196 56.59848717\n",
      " 56.59599992 56.59619823 56.59774324 56.5965785  56.59557234 56.59762711\n",
      " 56.59876137 56.59941271 56.59880653 56.59823283 56.59952098 56.60037024\n",
      " 56.59912533 56.59778337 56.59846458 56.59997303 56.60112805 56.60052498\n",
      " 56.59970177 56.59986896 56.60049584 56.60120026 56.59977916 56.59933027\n",
      " 56.59899385 56.5988456  56.59684806 56.59641464 56.59549516 56.59393147\n",
      " 56.59430753 56.59536156 56.59443671 56.59345061 56.59119558 56.59201012\n",
      " 56.59230531 56.59374774 56.59442919 56.59530174 56.59597841 56.59603129\n",
      " 56.59733252 56.59671165 56.59750264 56.59675249 56.59723734 56.59789382\n",
      " 56.59845053 56.59771177 56.59994481 56.59982702 56.59892486 56.59963756\n",
      " 56.59954141 56.5998419  56.59893104 56.59787236 56.5981429  56.59793273\n",
      " 56.59931724 56.59862181 56.59965751 56.60022795 56.60033061 56.59812179\n",
      " 56.5986029  56.59823336 56.59819232 56.59665242 56.59643912 56.59782962\n",
      " 56.59948767 56.60242722 56.60319234 56.6038662  56.6035491  56.60411428\n",
      " 56.60428089 56.60298036 56.60389449 56.60350452 56.6033665  56.60239458\n",
      " 56.60210244 56.60122085 56.60118339 56.60088291]\n",
      "\n",
      "Average return of the portfolio is: 0.03631819539809389% \n",
      "\n",
      "VaR of the portfolio at 95.0% confidence level: -4.045522966188163e-05\n"
     ]
    },
    {
     "data": {
      "image/png": "[encoded data removed]",
      "text/plain": [
       "<Figure size 640x480 with 1 Axes>"
      ]
     },
     "metadata": {},
     "output_type": "display_data"
    }
   ],
   "source": [
    "# calculate portfolio return\n",
    "\n",
    "weighted_sum_portfolio = stock_weight*S[y] + (1-stock_weight)*option_portfolio[y]\n",
    "print(weighted_sum_portfolio)\n",
    "for y in range(0,i-1):\n",
    "    \n",
    "    portfolio_return = (weighted_sum_portfolio - weighted_sum_portfolio[y-1]) / weighted_sum_portfolio[y-1]\n",
    "    average_return = np.average(portfolio_return)\n",
    "    confidence_level = 0.95\n",
    "    sorted_returns = np.sort(portfolio_return)\n",
    "    var_position = int(len(sorted_returns) * (1 - confidence_level))\n",
    "    var = sorted_returns[var_position]\n",
    "\n",
    "print(f\"\\nAverage return of the portfolio is: {average_return*100}% \")\n",
    "print(f\"\\nVaR of the portfolio at {confidence_level*100}% confidence level: {var}\")\n",
    "\n",
    "\n",
    "plt.plot(portfolio_return)\n",
    "plt.title('Weighted Sum Portfolio Return')\n",
    "plt.xlabel('t')\n",
    "plt.ylabel('Return')\n",
    "plt.show()\n"
   ]
  },
  {
   "cell_type": "code",
   "execution_count": null,
   "id": "729dde20",
   "metadata": {},
   "outputs": [],
   "source": [
    "var_min = np.zeros(i)\n",
    "var_max = np.zeros(i)\n",
    "\n",
    "# calculate max and min VaR\n",
    "for y in range(i):\n",
    "    portfolio_returns_sorted = np.sort(portfolio_returns[y])\n",
    "    var_index_min = int(N * 0.05)  # \n",
    "    var_index_max = int(N * 0.95)  # \n",
    "    var_min[y] = portfolio_returns_sorted[var_index_min]\n",
    "    var_max[y] = portfolio_returns_sorted[var_index_max]"
   ]
  },
  {
   "cell_type": "markdown",
   "id": "T8ZJn-d-ft2q",
   "metadata": {
    "id": "T8ZJn-d-ft2q"
   },
   "source": [
    "##*VaR,CVaR Calculation*"
   ]
  },
  {
   "cell_type": "code",
   "execution_count": 14,
   "id": "f6a49427",
   "metadata": {
    "id": "f6a49427"
   },
   "outputs": [],
   "source": [
    "def mcVaR(returns, alpha):\n",
    "    if isinstance(returns, pd.Series):\n",
    "        return np.percentile(returns, alpha)\n",
    "    else:\n",
    "        raise TypeError(\"Expected a pandas data series.\")\n",
    "\n",
    "def mcCVaR(returns, alpha):\n",
    "    if isinstance(returns, pd.Series):\n",
    "        belowVaR = returns <= mcVaR(returns, alpha=alpha)\n",
    "        return returns[belowVaR].mean()\n",
    "    else:\n",
    "        raise TypeError(\"Expected a pandas data series.\")"
   ]
  },
  {
   "cell_type": "code",
   "execution_count": 34,
   "id": "It2vi_KfAdlP",
   "metadata": {
    "colab": {
     "base_uri": "https://localhost:8080/"
    },
    "id": "It2vi_KfAdlP",
    "outputId": "efe2b6e9-f5cb-45a2-f5e9-02c0d87b6e6c"
   },
   "outputs": [
    {
     "name": "stdout",
     "output_type": "stream",
     "text": [
      "VaR $-202.00\n",
      "CVaR $-201.02\n"
     ]
    }
   ],
   "source": [
    "portResults = pd.Series(Portfolio)\n",
    "\n",
    "initialPortfolio = S0\n",
    "\n",
    "VaR = initialPortfolio - mcVaR(portResults, 5)\n",
    "CVaR = initialPortfolio - mcCVaR(portResults, 5)\n",
    "\n",
    "print('VaR ${:,.2f}'.format(VaR,2))\n",
    "print('CVaR ${:,.2f}'.format(CVaR,2))"
   ]
  },
  {
   "cell_type": "markdown",
   "id": "3lMh3BnVAv8w",
   "metadata": {
    "id": "3lMh3BnVAv8w"
   },
   "source": [
    "##*Monte Carlo Simulation of VaR*"
   ]
  },
  {
   "cell_type": "code",
   "execution_count": null,
   "id": "UcgjcLoOBVFl",
   "metadata": {
    "colab": {
     "base_uri": "https://localhost:8080/"
    },
    "id": "UcgjcLoOBVFl",
    "outputId": "34d48a8a-130e-4085-fa03-88d48e6ea209"
   },
   "outputs": [
    {
     "name": "stdout",
     "output_type": "stream",
     "text": [
      "history\n"
     ]
    }
   ],
   "source": [
    "history"
   ]
  }
 ],
 "metadata": {
  "colab": {
   "provenance": []
  },
  "kernelspec": {
   "display_name": "Python 3 (ipykernel)",
   "language": "python",
   "name": "python3"
  },
  "language_info": {
   "codemirror_mode": {
    "name": "ipython",
    "version": 3
   },
   "file_extension": ".py",
   "mimetype": "text/x-python",
   "name": "python",
   "nbconvert_exporter": "python",
   "pygments_lexer": "ipython3",
   "version": "3.10.9"
  }
 },
 "nbformat": 4,
 "nbformat_minor": 5
}
